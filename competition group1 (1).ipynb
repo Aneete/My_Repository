{
 "cells": [
  {
   "cell_type": "code",
   "execution_count": 1,
   "id": "718af70d",
   "metadata": {},
   "outputs": [],
   "source": [
    "import pandas as pd\n",
    "import numpy as np\n",
    "import matplotlib.pyplot as plt \n",
    "import seaborn as sns"
   ]
  },
  {
   "cell_type": "code",
   "execution_count": 2,
   "id": "b4883ffb",
   "metadata": {},
   "outputs": [
    {
     "data": {
      "text/html": [
       "<div>\n",
       "<style scoped>\n",
       "    .dataframe tbody tr th:only-of-type {\n",
       "        vertical-align: middle;\n",
       "    }\n",
       "\n",
       "    .dataframe tbody tr th {\n",
       "        vertical-align: top;\n",
       "    }\n",
       "\n",
       "    .dataframe thead th {\n",
       "        text-align: right;\n",
       "    }\n",
       "</style>\n",
       "<table border=\"1\" class=\"dataframe\">\n",
       "  <thead>\n",
       "    <tr style=\"text-align: right;\">\n",
       "      <th></th>\n",
       "      <th>time</th>\n",
       "      <th>latitude</th>\n",
       "      <th>longitude</th>\n",
       "      <th>depth</th>\n",
       "      <th>mag</th>\n",
       "      <th>magType</th>\n",
       "      <th>nst</th>\n",
       "      <th>gap</th>\n",
       "      <th>dmin</th>\n",
       "      <th>rms</th>\n",
       "      <th>...</th>\n",
       "      <th>updated</th>\n",
       "      <th>place</th>\n",
       "      <th>type</th>\n",
       "      <th>horizontalError</th>\n",
       "      <th>depthError</th>\n",
       "      <th>magError</th>\n",
       "      <th>magNst</th>\n",
       "      <th>status</th>\n",
       "      <th>locationSource</th>\n",
       "      <th>magSource</th>\n",
       "    </tr>\n",
       "  </thead>\n",
       "  <tbody>\n",
       "    <tr>\n",
       "      <th>0</th>\n",
       "      <td>2022-01-14T02:30:08.190Z</td>\n",
       "      <td>38.814335</td>\n",
       "      <td>-122.821999</td>\n",
       "      <td>2.47</td>\n",
       "      <td>0.75</td>\n",
       "      <td>md</td>\n",
       "      <td>18.0</td>\n",
       "      <td>53.0</td>\n",
       "      <td>0.007827</td>\n",
       "      <td>0.02</td>\n",
       "      <td>...</td>\n",
       "      <td>2022-01-14T02:31:46.240Z</td>\n",
       "      <td>7km NW of The Geysers, CA</td>\n",
       "      <td>earthquake</td>\n",
       "      <td>0.24</td>\n",
       "      <td>0.73</td>\n",
       "      <td>0.22</td>\n",
       "      <td>3.0</td>\n",
       "      <td>automatic</td>\n",
       "      <td>nc</td>\n",
       "      <td>nc</td>\n",
       "    </tr>\n",
       "    <tr>\n",
       "      <th>1</th>\n",
       "      <td>2022-01-14T02:25:14.630Z</td>\n",
       "      <td>33.823833</td>\n",
       "      <td>-118.284833</td>\n",
       "      <td>8.91</td>\n",
       "      <td>1.52</td>\n",
       "      <td>ml</td>\n",
       "      <td>21.0</td>\n",
       "      <td>64.0</td>\n",
       "      <td>0.059360</td>\n",
       "      <td>0.24</td>\n",
       "      <td>...</td>\n",
       "      <td>2022-01-14T02:29:09.803Z</td>\n",
       "      <td>1km SSW of Carson, CA</td>\n",
       "      <td>earthquake</td>\n",
       "      <td>0.43</td>\n",
       "      <td>0.86</td>\n",
       "      <td>0.17</td>\n",
       "      <td>29.0</td>\n",
       "      <td>automatic</td>\n",
       "      <td>ci</td>\n",
       "      <td>ci</td>\n",
       "    </tr>\n",
       "    <tr>\n",
       "      <th>2</th>\n",
       "      <td>2022-01-14T02:24:29.520Z</td>\n",
       "      <td>40.027000</td>\n",
       "      <td>-123.747002</td>\n",
       "      <td>15.45</td>\n",
       "      <td>2.52</td>\n",
       "      <td>md</td>\n",
       "      <td>18.0</td>\n",
       "      <td>112.0</td>\n",
       "      <td>0.142900</td>\n",
       "      <td>0.13</td>\n",
       "      <td>...</td>\n",
       "      <td>2022-01-14T02:26:10.867Z</td>\n",
       "      <td>12km SSE of Redway, CA</td>\n",
       "      <td>earthquake</td>\n",
       "      <td>0.55</td>\n",
       "      <td>0.69</td>\n",
       "      <td>0.10</td>\n",
       "      <td>15.0</td>\n",
       "      <td>automatic</td>\n",
       "      <td>nc</td>\n",
       "      <td>nc</td>\n",
       "    </tr>\n",
       "    <tr>\n",
       "      <th>3</th>\n",
       "      <td>2022-01-14T02:20:31.850Z</td>\n",
       "      <td>38.824165</td>\n",
       "      <td>-122.804169</td>\n",
       "      <td>2.52</td>\n",
       "      <td>0.69</td>\n",
       "      <td>md</td>\n",
       "      <td>18.0</td>\n",
       "      <td>63.0</td>\n",
       "      <td>0.004676</td>\n",
       "      <td>0.01</td>\n",
       "      <td>...</td>\n",
       "      <td>2022-01-14T02:22:06.564Z</td>\n",
       "      <td>7km NW of The Geysers, CA</td>\n",
       "      <td>earthquake</td>\n",
       "      <td>0.23</td>\n",
       "      <td>0.59</td>\n",
       "      <td>0.48</td>\n",
       "      <td>3.0</td>\n",
       "      <td>automatic</td>\n",
       "      <td>nc</td>\n",
       "      <td>nc</td>\n",
       "    </tr>\n",
       "    <tr>\n",
       "      <th>4</th>\n",
       "      <td>2022-01-14T02:19:10.470Z</td>\n",
       "      <td>40.854500</td>\n",
       "      <td>-122.376335</td>\n",
       "      <td>4.36</td>\n",
       "      <td>1.45</td>\n",
       "      <td>md</td>\n",
       "      <td>6.0</td>\n",
       "      <td>310.0</td>\n",
       "      <td>0.256700</td>\n",
       "      <td>0.09</td>\n",
       "      <td>...</td>\n",
       "      <td>2022-01-14T02:27:10.172Z</td>\n",
       "      <td>19km N of Shasta Lake, CA</td>\n",
       "      <td>earthquake</td>\n",
       "      <td>8.02</td>\n",
       "      <td>10.34</td>\n",
       "      <td>0.18</td>\n",
       "      <td>5.0</td>\n",
       "      <td>automatic</td>\n",
       "      <td>nc</td>\n",
       "      <td>nc</td>\n",
       "    </tr>\n",
       "  </tbody>\n",
       "</table>\n",
       "<p>5 rows × 22 columns</p>\n",
       "</div>"
      ],
      "text/plain": [
       "                       time   latitude   longitude  depth   mag magType   nst  \\\n",
       "0  2022-01-14T02:30:08.190Z  38.814335 -122.821999   2.47  0.75      md  18.0   \n",
       "1  2022-01-14T02:25:14.630Z  33.823833 -118.284833   8.91  1.52      ml  21.0   \n",
       "2  2022-01-14T02:24:29.520Z  40.027000 -123.747002  15.45  2.52      md  18.0   \n",
       "3  2022-01-14T02:20:31.850Z  38.824165 -122.804169   2.52  0.69      md  18.0   \n",
       "4  2022-01-14T02:19:10.470Z  40.854500 -122.376335   4.36  1.45      md   6.0   \n",
       "\n",
       "     gap      dmin   rms  ...                   updated  \\\n",
       "0   53.0  0.007827  0.02  ...  2022-01-14T02:31:46.240Z   \n",
       "1   64.0  0.059360  0.24  ...  2022-01-14T02:29:09.803Z   \n",
       "2  112.0  0.142900  0.13  ...  2022-01-14T02:26:10.867Z   \n",
       "3   63.0  0.004676  0.01  ...  2022-01-14T02:22:06.564Z   \n",
       "4  310.0  0.256700  0.09  ...  2022-01-14T02:27:10.172Z   \n",
       "\n",
       "                       place        type horizontalError depthError  magError  \\\n",
       "0  7km NW of The Geysers, CA  earthquake            0.24       0.73      0.22   \n",
       "1      1km SSW of Carson, CA  earthquake            0.43       0.86      0.17   \n",
       "2     12km SSE of Redway, CA  earthquake            0.55       0.69      0.10   \n",
       "3  7km NW of The Geysers, CA  earthquake            0.23       0.59      0.48   \n",
       "4  19km N of Shasta Lake, CA  earthquake            8.02      10.34      0.18   \n",
       "\n",
       "   magNst     status  locationSource magSource  \n",
       "0     3.0  automatic              nc        nc  \n",
       "1    29.0  automatic              ci        ci  \n",
       "2    15.0  automatic              nc        nc  \n",
       "3     3.0  automatic              nc        nc  \n",
       "4     5.0  automatic              nc        nc  \n",
       "\n",
       "[5 rows x 22 columns]"
      ]
     },
     "execution_count": 2,
     "metadata": {},
     "output_type": "execute_result"
    }
   ],
   "source": [
    "data=pd.read_csv('all_month.csv')\n",
    "data.head()"
   ]
  },
  {
   "cell_type": "code",
   "execution_count": 3,
   "id": "b0180281",
   "metadata": {},
   "outputs": [
    {
     "name": "stdout",
     "output_type": "stream",
     "text": [
      "<class 'pandas.core.frame.DataFrame'>\n",
      "RangeIndex: 9177 entries, 0 to 9176\n",
      "Data columns (total 22 columns):\n",
      " #   Column           Non-Null Count  Dtype  \n",
      "---  ------           --------------  -----  \n",
      " 0   time             9177 non-null   object \n",
      " 1   latitude         9177 non-null   float64\n",
      " 2   longitude        9177 non-null   float64\n",
      " 3   depth            9177 non-null   float64\n",
      " 4   mag              9174 non-null   float64\n",
      " 5   magType          9174 non-null   object \n",
      " 6   nst              6681 non-null   float64\n",
      " 7   gap              7664 non-null   float64\n",
      " 8   dmin             6288 non-null   float64\n",
      " 9   rms              9176 non-null   float64\n",
      " 10  net              9177 non-null   object \n",
      " 11  id               9177 non-null   object \n",
      " 12  updated          9177 non-null   object \n",
      " 13  place            9177 non-null   object \n",
      " 14  type             9177 non-null   object \n",
      " 15  horizontalError  6842 non-null   float64\n",
      " 16  depthError       9177 non-null   float64\n",
      " 17  magError         7256 non-null   float64\n",
      " 18  magNst           7658 non-null   float64\n",
      " 19  status           9177 non-null   object \n",
      " 20  locationSource   9177 non-null   object \n",
      " 21  magSource        9177 non-null   object \n",
      "dtypes: float64(12), object(10)\n",
      "memory usage: 1.5+ MB\n"
     ]
    }
   ],
   "source": [
    "data.info()"
   ]
  },
  {
   "cell_type": "code",
   "execution_count": 4,
   "id": "a61265d9",
   "metadata": {},
   "outputs": [
    {
     "data": {
      "text/plain": [
       "Index(['time', 'latitude', 'longitude', 'depth', 'mag', 'magType', 'nst',\n",
       "       'gap', 'dmin', 'rms', 'net', 'id', 'updated', 'place', 'type',\n",
       "       'horizontalError', 'depthError', 'magError', 'magNst', 'status',\n",
       "       'locationSource', 'magSource'],\n",
       "      dtype='object')"
      ]
     },
     "execution_count": 4,
     "metadata": {},
     "output_type": "execute_result"
    }
   ],
   "source": [
    "data.columns"
   ]
  },
  {
   "cell_type": "markdown",
   "id": "060aa9a7",
   "metadata": {},
   "source": [
    "# Null value handling"
   ]
  },
  {
   "cell_type": "code",
   "execution_count": 5,
   "id": "ffc9cde3",
   "metadata": {},
   "outputs": [],
   "source": [
    "for i in ['mag', 'nst','gap', 'dmin', 'rms','magError','horizontalError']:\n",
    "    data[i]=data[i].fillna(data[i].median())"
   ]
  },
  {
   "cell_type": "code",
   "execution_count": 6,
   "id": "fc82575b",
   "metadata": {},
   "outputs": [],
   "source": [
    "data['magType'].fillna(\"ml\",inplace=True)"
   ]
  },
  {
   "cell_type": "code",
   "execution_count": 7,
   "id": "5749be34",
   "metadata": {},
   "outputs": [],
   "source": [
    "data=data.drop(['magNst'],axis=1)"
   ]
  },
  {
   "cell_type": "code",
   "execution_count": 8,
   "id": "bd06463e",
   "metadata": {},
   "outputs": [
    {
     "data": {
      "text/plain": [
       "time               0\n",
       "latitude           0\n",
       "longitude          0\n",
       "depth              0\n",
       "mag                0\n",
       "magType            0\n",
       "nst                0\n",
       "gap                0\n",
       "dmin               0\n",
       "rms                0\n",
       "net                0\n",
       "id                 0\n",
       "updated            0\n",
       "place              0\n",
       "type               0\n",
       "horizontalError    0\n",
       "depthError         0\n",
       "magError           0\n",
       "status             0\n",
       "locationSource     0\n",
       "magSource          0\n",
       "dtype: int64"
      ]
     },
     "execution_count": 8,
     "metadata": {},
     "output_type": "execute_result"
    }
   ],
   "source": [
    "data.isnull().sum()"
   ]
  },
  {
   "cell_type": "code",
   "execution_count": 9,
   "id": "9ee5676b",
   "metadata": {},
   "outputs": [],
   "source": [
    "import re\n",
    "data['short place']=[re.findall(r'\\w+',i)[-1] for i in data['place']]\n",
    "features=[i for i in data.columns if data[i].isna().sum()==0] \n",
    "features\n",
    "for i in ['mag','place','time','updated','net','magType','depth']:\n",
    "    features.remove(i)"
   ]
  },
  {
   "cell_type": "markdown",
   "id": "ace44b4d",
   "metadata": {},
   "source": [
    "# Label Encoding"
   ]
  },
  {
   "cell_type": "code",
   "execution_count": 10,
   "id": "0f9fbb14",
   "metadata": {},
   "outputs": [],
   "source": [
    "categorical=[]\n",
    "for i in features:\n",
    "    if data[i].dtype==\"object\":\n",
    "        categorical.append(i"
   ]
  },
  {
   "cell_type": "code",
   "execution_count": 11,
   "id": "39981c09",
   "metadata": {},
   "outputs": [
    {
     "data": {
      "text/plain": [
       "['id', 'type', 'status', 'locationSource', 'magSource', 'short place']"
      ]
     },
     "execution_count": 11,
     "metadata": {},
     "output_type": "execute_result"
    }
   ],
   "source": [
    "categorical"
   ]
  },
  {
   "cell_type": "code",
   "execution_count": 12,
   "id": "f5cfbe9e",
   "metadata": {},
   "outputs": [
    {
     "name": "stderr",
     "output_type": "stream",
     "text": [
      "<ipython-input-12-deaafda475a4>:6: SettingWithCopyWarning: \n",
      "A value is trying to be set on a copy of a slice from a DataFrame.\n",
      "Try using .loc[row_indexer,col_indexer] = value instead\n",
      "\n",
      "See the caveats in the documentation: https://pandas.pydata.org/pandas-docs/stable/user_guide/indexing.html#returning-a-view-versus-a-copy\n",
      "  x[i]=le.fit_transform(x[i])\n"
     ]
    }
   ],
   "source": [
    "from sklearn import preprocessing\n",
    "le = preprocessing.LabelEncoder()\n",
    "x=data[features]\n",
    "y=data[['mag','depth', 'depthError']]\n",
    "for i in categorical:\n",
    "    x[i]=le.fit_transform(x[i])\n",
    "for i in [i for i in y.columns if y[i].dtype=='object']:\n",
    "    y[i]=le.fit_transform(y[i])"
   ]
  },
  {
   "cell_type": "markdown",
   "id": "6344b55a",
   "metadata": {},
   "source": [
    "# Exploratory Analysis"
   ]
  },
  {
   "cell_type": "code",
   "execution_count": 49,
   "id": "dc2792d4",
   "metadata": {},
   "outputs": [
    {
     "data": {
      "text/plain": [
       "Text(0.5, 0, 'magType')"
      ]
     },
     "execution_count": 49,
     "metadata": {},
     "output_type": "execute_result"
    },
    {
     "data": {
      "image/png": "[encoded data removed]",
      "text/plain": [
       "<Figure size 432x288 with 1 Axes>"
      ]
     },
     "metadata": {
      "needs_background": "light"
     },
     "output_type": "display_data"
    }
   ],
   "source": [
    "dd=data['magType'].value_counts()\n",
    "dd.plot(kind='bar')\n",
    "plt.title('Barchart of magnitude type')\n",
    "plt.ylabel('frequency')\n",
    "plt.xlabel('magType')"
   ]
  },
  {
   "cell_type": "markdown",
   "id": "4a4b4acd",
   "metadata": {},
   "source": [
    "most of the earthquakes are of ml type"
   ]
  },
  {
   "cell_type": "code",
   "execution_count": 15,
   "id": "95d747f2",
   "metadata": {},
   "outputs": [
    {
     "data": {
      "image/png": "[encoded data removed]",
      "text/plain": [
       "<Figure size 432x720 with 1 Axes>"
      ]
     },
     "metadata": {
      "needs_background": "light"
     },
     "output_type": "display_data"
    }
   ],
   "source": [
    "freqgraph=data['mag']\n",
    "freqgraph.hist(figsize=(6,10))\n",
    "plt.xlabel('magnitude')\n",
    "plt.show()"
   ]
  },
  {
   "cell_type": "markdown",
   "id": "d2e4bc36",
   "metadata": {},
   "source": [
    "most of the magnituse is between 0.5 to 2"
   ]
  },
  {
   "cell_type": "code",
   "execution_count": 17,
   "id": "92cf6048",
   "metadata": {},
   "outputs": [
    {
     "data": {
      "text/plain": [
       "Text(0.5, 1.0, 'magnitude v/s depth')"
      ]
     },
     "execution_count": 17,
     "metadata": {},
     "output_type": "execute_result"
    },
    {
     "data": {
      "image/png": "[encoded data removed]",
      "text/plain": [
       "<Figure size 432x288 with 1 Axes>"
      ]
     },
     "metadata": {
      "needs_background": "light"
     },
     "output_type": "display_data"
    }
   ],
   "source": [
    "sns.scatterplot(x='mag',y='depth',data=data)\n",
    "plt.title(\"magnitude v/s depth\")"
   ]
  },
  {
   "cell_type": "markdown",
   "id": "fe541473",
   "metadata": {},
   "source": [
    "Above 300km, the  magnitudes are greater than or equal to 4 degrees"
   ]
  },
  {
   "cell_type": "code",
   "execution_count": 19,
   "id": "a2172212",
   "metadata": {},
   "outputs": [
    {
     "data": {
      "image/png": "[encoded data removed]",
      "text/plain": [
       "<Figure size 720x576 with 2 Axes>"
      ]
     },
     "metadata": {
      "needs_background": "light"
     },
     "output_type": "display_data"
    }
   ],
   "source": [
    "plt.figure(figsize=(10,8))\n",
    "sns.heatmap(data=data.corr(),cmap='rocket',annot=True,fmt='.2f')\n",
    "plt.show()"
   ]
  },
  {
   "cell_type": "markdown",
   "id": "bef94ca7",
   "metadata": {},
   "source": [
    "# Modelling"
   ]
  },
  {
   "cell_type": "markdown",
   "id": "cf2cabc2",
   "metadata": {},
   "source": [
    "# Linear Regression"
   ]
  },
  {
   "cell_type": "code",
   "execution_count": 21,
   "id": "43e98295",
   "metadata": {},
   "outputs": [],
   "source": [
    "from sklearn.model_selection import train_test_split\n",
    "x_train, x_test, y_train, y_test = train_test_split(x,y,random_state=42,test_size=0.2)"
   ]
  },
  {
   "cell_type": "code",
   "execution_count": 22,
   "id": "be76b5ce",
   "metadata": {},
   "outputs": [
    {
     "data": {
      "text/plain": [
       "array([[ 1.2499813 ,  1.4450265 ,  2.2       ],\n",
       "       [ 4.99192303, 97.62699761,  6.7       ],\n",
       "       [ 0.7694885 ,  4.50941408,  0.45      ],\n",
       "       ...,\n",
       "       [ 0.64667854,  6.53396176,  0.32      ],\n",
       "       [ 1.28776873, 17.89664407,  0.59      ],\n",
       "       [ 1.63638505, 11.04144945,  0.77      ]])"
      ]
     },
     "execution_count": 22,
     "metadata": {},
     "output_type": "execute_result"
    }
   ],
   "source": [
    "from sklearn.linear_model import LinearRegression\n",
    "lr=LinearRegression()\n",
    "lr.fit(x_train,y_train)\n",
    "y_pred=lr.predict(x_test)"
   ]
  },
  {
   "cell_type": "markdown",
   "id": "8d52d065",
   "metadata": {},
   "source": [
    "# KNN"
   ]
  },
  {
   "cell_type": "code",
   "execution_count": 26,
   "id": "a1483b49",
   "metadata": {},
   "outputs": [
    {
     "data": {
      "text/plain": [
       "MultiOutputRegressor(estimator=KNeighborsRegressor())"
      ]
     },
     "execution_count": 26,
     "metadata": {},
     "output_type": "execute_result"
    }
   ],
   "source": [
    "from sklearn.multioutput import MultiOutputRegressor \n",
    "from sklearn.neighbors import KNeighborsRegressor\n",
    "knn=KNeighborsRegressor()\n",
    "knn=MultiOutputRegressor(knnmodel)\n",
    "knn.fit(x_train,y_train)\n"
   ]
  },
  {
   "cell_type": "code",
   "execution_count": 38,
   "id": "55259ff2",
   "metadata": {},
   "outputs": [],
   "source": [
    "y_pred=knn.predict(x_test)"
   ]
  },
  {
   "cell_type": "markdown",
   "id": "e2a57275",
   "metadata": {},
   "source": [
    "# SVM"
   ]
  },
  {
   "cell_type": "code",
   "execution_count": 29,
   "id": "6edcfb20",
   "metadata": {},
   "outputs": [
    {
     "name": "stderr",
     "output_type": "stream",
     "text": [
      "C:\\Users\\aneet\\anaconda3\\lib\\site-packages\\sklearn\\svm\\_base.py:985: ConvergenceWarning: Liblinear failed to converge, increase the number of iterations.\n",
      "  warnings.warn(\"Liblinear failed to converge, increase \"\n",
      "C:\\Users\\aneet\\anaconda3\\lib\\site-packages\\sklearn\\svm\\_base.py:985: ConvergenceWarning: Liblinear failed to converge, increase the number of iterations.\n",
      "  warnings.warn(\"Liblinear failed to converge, increase \"\n"
     ]
    },
    {
     "data": {
      "text/plain": [
       "MultiOutputRegressor(estimator=LinearSVR())"
      ]
     },
     "execution_count": 29,
     "metadata": {},
     "output_type": "execute_result"
    }
   ],
   "source": [
    "from sklearn.svm import LinearSVR\n",
    "svm_linear=LinearSVR()\n",
    "svm_linear=MultiOutputRegressor(svm_linear)\n",
    "svm_linear.fit(x_train,y_train)"
   ]
  },
  {
   "cell_type": "code",
   "execution_count": 37,
   "id": "a6b996aa",
   "metadata": {},
   "outputs": [
    {
     "data": {
      "text/plain": [
       "array([[  2.96600394, -13.74884585,   2.20007115],\n",
       "       [  5.78986459,  27.81568646,   6.70074144],\n",
       "       [  2.11614989,  -2.54283668,   0.45015441],\n",
       "       ...,\n",
       "       [  1.71120411,   2.90692383,   0.32002502],\n",
       "       [  2.26772358,  -1.11769155,   0.59000391],\n",
       "       [  2.41510631,   2.08367224,   0.77025282]])"
      ]
     },
     "execution_count": 37,
     "metadata": {},
     "output_type": "execute_result"
    }
   ],
   "source": [
    "y_pred=svm_linear.predict(x_test)\n",
    "y_pred"
   ]
  },
  {
   "cell_type": "markdown",
   "id": "c75c7901",
   "metadata": {},
   "source": [
    "# Decision Tree"
   ]
  },
  {
   "cell_type": "code",
   "execution_count": 32,
   "id": "a0f19f3f",
   "metadata": {},
   "outputs": [
    {
     "data": {
      "text/plain": [
       "DecisionTreeRegressor()"
      ]
     },
     "execution_count": 32,
     "metadata": {},
     "output_type": "execute_result"
    }
   ],
   "source": [
    "from sklearn.tree import DecisionTreeRegressor\n",
    "dt=DecisionTreeRegressor()\n",
    "dt.fit(x_train,y_train)"
   ]
  },
  {
   "cell_type": "code",
   "execution_count": 36,
   "id": "890e2bc9",
   "metadata": {},
   "outputs": [
    {
     "data": {
      "text/plain": [
       "array([[  1.6 ,   7.3 ,   2.2 ],\n",
       "       [  4.4 , 193.6 ,   7.  ],\n",
       "       [  0.54,   1.4 ,   0.48],\n",
       "       ...,\n",
       "       [  0.91,   4.43,   0.31],\n",
       "       [  1.55,   9.72,   0.7 ],\n",
       "       [  1.18,   7.54,   0.46]])"
      ]
     },
     "execution_count": 36,
     "metadata": {},
     "output_type": "execute_result"
    }
   ],
   "source": [
    "y_pred=dt.predict(x_test)\n",
    "y_pred"
   ]
  },
  {
   "cell_type": "markdown",
   "id": "19517b2e",
   "metadata": {},
   "source": [
    "# Random Forest"
   ]
  },
  {
   "cell_type": "code",
   "execution_count": 34,
   "id": "c2c932a1",
   "metadata": {},
   "outputs": [
    {
     "data": {
      "text/plain": [
       "RandomForestRegressor()"
      ]
     },
     "execution_count": 34,
     "metadata": {},
     "output_type": "execute_result"
    }
   ],
   "source": [
    "from sklearn.ensemble import RandomForestRegressor\n",
    "from sklearn.datasets import make_classification\n",
    "clf = RandomForestRegressor(n_estimators=100, criterion='mse', max_depth=None, min_samples_split=2, min_samples_leaf=1, min_weight_fraction_leaf=0.0, max_features='auto', max_leaf_nodes=None, min_impurity_decrease=0.0, min_impurity_split=None, bootstrap=True, oob_score=False, n_jobs=None, random_state=None, verbose=0, warm_start=False, ccp_alpha=0.0, max_samples=None)\n",
    "clf.fit(x_train, y_train)"
   ]
  },
  {
   "cell_type": "code",
   "execution_count": 35,
   "id": "c83830ff",
   "metadata": {},
   "outputs": [
    {
     "data": {
      "text/plain": [
       "array([[  1.4483,   8.3291,   2.1969],\n",
       "       [  4.3796, 133.7482,   6.9885],\n",
       "       [  0.6824,   1.205 ,   0.5669],\n",
       "       ...,\n",
       "       [  0.9465,   3.6541,   0.311 ],\n",
       "       [  1.4935,   9.6507,   0.6016],\n",
       "       [  1.3882,   6.8771,   0.7442]])"
      ]
     },
     "execution_count": 35,
     "metadata": {},
     "output_type": "execute_result"
    }
   ],
   "source": [
    "y_pred=clf.predict(x_test)\n",
    "y_pred"
   ]
  },
  {
   "cell_type": "markdown",
   "id": "4da54f5e",
   "metadata": {},
   "source": [
    "# Model fine tuning"
   ]
  },
  {
   "cell_type": "code",
   "execution_count": 40,
   "id": "66518182",
   "metadata": {},
   "outputs": [],
   "source": [
    "from sklearn.model_selection import cross_val_score"
   ]
  },
  {
   "cell_type": "code",
   "execution_count": 41,
   "id": "5598a63f",
   "metadata": {},
   "outputs": [
    {
     "name": "stdout",
     "output_type": "stream",
     "text": [
      "0.6556576505582725\n"
     ]
    }
   ],
   "source": [
    "print(cross_val_score(lr, x, y, cv=5).mean())"
   ]
  },
  {
   "cell_type": "code",
   "execution_count": 43,
   "id": "73325426",
   "metadata": {},
   "outputs": [
    {
     "name": "stdout",
     "output_type": "stream",
     "text": [
      "0.3454851891826874\n"
     ]
    }
   ],
   "source": [
    "print(cross_val_score(knn, x, y, cv=5).mean())"
   ]
  },
  {
   "cell_type": "code",
   "execution_count": 44,
   "id": "ac13fccf",
   "metadata": {},
   "outputs": [
    {
     "name": "stderr",
     "output_type": "stream",
     "text": [
      "C:\\Users\\aneet\\anaconda3\\lib\\site-packages\\sklearn\\svm\\_base.py:985: ConvergenceWarning: Liblinear failed to converge, increase the number of iterations.\n",
      "  warnings.warn(\"Liblinear failed to converge, increase \"\n",
      "C:\\Users\\aneet\\anaconda3\\lib\\site-packages\\sklearn\\svm\\_base.py:985: ConvergenceWarning: Liblinear failed to converge, increase the number of iterations.\n",
      "  warnings.warn(\"Liblinear failed to converge, increase \"\n",
      "C:\\Users\\aneet\\anaconda3\\lib\\site-packages\\sklearn\\svm\\_base.py:985: ConvergenceWarning: Liblinear failed to converge, increase the number of iterations.\n",
      "  warnings.warn(\"Liblinear failed to converge, increase \"\n",
      "C:\\Users\\aneet\\anaconda3\\lib\\site-packages\\sklearn\\svm\\_base.py:985: ConvergenceWarning: Liblinear failed to converge, increase the number of iterations.\n",
      "  warnings.warn(\"Liblinear failed to converge, increase \"\n",
      "C:\\Users\\aneet\\anaconda3\\lib\\site-packages\\sklearn\\svm\\_base.py:985: ConvergenceWarning: Liblinear failed to converge, increase the number of iterations.\n",
      "  warnings.warn(\"Liblinear failed to converge, increase \"\n",
      "C:\\Users\\aneet\\anaconda3\\lib\\site-packages\\sklearn\\svm\\_base.py:985: ConvergenceWarning: Liblinear failed to converge, increase the number of iterations.\n",
      "  warnings.warn(\"Liblinear failed to converge, increase \"\n",
      "C:\\Users\\aneet\\anaconda3\\lib\\site-packages\\sklearn\\svm\\_base.py:985: ConvergenceWarning: Liblinear failed to converge, increase the number of iterations.\n",
      "  warnings.warn(\"Liblinear failed to converge, increase \"\n",
      "C:\\Users\\aneet\\anaconda3\\lib\\site-packages\\sklearn\\svm\\_base.py:985: ConvergenceWarning: Liblinear failed to converge, increase the number of iterations.\n",
      "  warnings.warn(\"Liblinear failed to converge, increase \"\n",
      "C:\\Users\\aneet\\anaconda3\\lib\\site-packages\\sklearn\\svm\\_base.py:985: ConvergenceWarning: Liblinear failed to converge, increase the number of iterations.\n",
      "  warnings.warn(\"Liblinear failed to converge, increase \"\n",
      "C:\\Users\\aneet\\anaconda3\\lib\\site-packages\\sklearn\\svm\\_base.py:985: ConvergenceWarning: Liblinear failed to converge, increase the number of iterations.\n",
      "  warnings.warn(\"Liblinear failed to converge, increase \"\n"
     ]
    },
    {
     "name": "stdout",
     "output_type": "stream",
     "text": [
      "-3.133288237548805\n"
     ]
    },
    {
     "name": "stderr",
     "output_type": "stream",
     "text": [
      "C:\\Users\\aneet\\anaconda3\\lib\\site-packages\\sklearn\\svm\\_base.py:985: ConvergenceWarning: Liblinear failed to converge, increase the number of iterations.\n",
      "  warnings.warn(\"Liblinear failed to converge, increase \"\n"
     ]
    }
   ],
   "source": [
    "print(cross_val_score(svm_linear, x, y, cv=5).mean())"
   ]
  },
  {
   "cell_type": "code",
   "execution_count": 45,
   "id": "ed4c1d4b",
   "metadata": {},
   "outputs": [
    {
     "name": "stdout",
     "output_type": "stream",
     "text": [
      "0.6702043700637159\n"
     ]
    }
   ],
   "source": [
    "print(cross_val_score(dt, x, y, cv=5).mean())"
   ]
  },
  {
   "cell_type": "code",
   "execution_count": 46,
   "id": "444358cd",
   "metadata": {},
   "outputs": [
    {
     "name": "stdout",
     "output_type": "stream",
     "text": [
      "0.7909168840171473\n"
     ]
    }
   ],
   "source": [
    "print(cross_val_score(clf, x, y, cv=5).mean())"
   ]
  },
  {
   "cell_type": "code",
   "execution_count": 48,
   "id": "1057d4c7",
   "metadata": {},
   "outputs": [
    {
     "data": {
      "text/plain": [
       "GridSearchCV(cv=10, estimator=RandomForestRegressor(),\n",
       "             param_grid=[{'bootstrap': [True, False],\n",
       "                          'max_depth': [10, 50, None], 'max_features': [5, 10],\n",
       "                          'n_estimators': [10, 25]}],\n",
       "             scoring='neg_mean_squared_error')"
      ]
     },
     "execution_count": 48,
     "metadata": {},
     "output_type": "execute_result"
    }
   ],
   "source": [
    "from sklearn.model_selection import GridSearchCV\n",
    "\n",
    "param_grid = [\n",
    "{'n_estimators': [10, 25], 'max_features': [5, 10], \n",
    " 'max_depth': [10, 50, None], 'bootstrap': [True, False]}\n",
    "]\n",
    "\n",
    "grid_search_forest = GridSearchCV(clf, param_grid, cv=10, scoring='neg_mean_squared_error')\n",
    "grid_search_forest.fit(x_train, y_train)\n",
    "print(cross_val_score(grid_search_forest.best_estimator_, x, y, cv=5).mean())"
   ]
  },
  {
   "cell_type": "code",
   "execution_count": null,
   "id": "cf3a3b09",
   "metadata": {},
   "outputs": [],
   "source": [
    "Cross validation value is more for random forest regressor, Therefore it is the best regressor."
   ]
  }
 ],
 "metadata": {
  "kernelspec": {
   "display_name": "Python 3",
   "language": "python",
   "name": "python3"
  },
  "language_info": {
   "codemirror_mode": {
    "name": "ipython",
    "version": 3
   },
   "file_extension": ".py",
   "mimetype": "text/x-python",
   "name": "python",
   "nbconvert_exporter": "python",
   "pygments_lexer": "ipython3",
   "version": "3.8.8"
  }
 },
 "nbformat": 4,
 "nbformat_minor": 5
}
